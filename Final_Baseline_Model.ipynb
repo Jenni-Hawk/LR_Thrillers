{
 "cells": [
  {
   "cell_type": "markdown",
   "id": "32323c51",
   "metadata": {},
   "source": [
    "#### Final Baseline Model\n",
    "- Cross Validation\n",
    "- Predictions Based on Test Model \n",
    "- Scores on Test Model (at bottom)\n",
    "- R2, MAE, MAPE\n",
    "- Interpretation Notes"
   ]
  },
  {
   "cell_type": "code",
   "execution_count": 28,
   "id": "714e7933",
   "metadata": {},
   "outputs": [],
   "source": [
    "import numpy as np\n",
    "from sklearn.linear_model import LinearRegression\n",
    "from sklearn.model_selection import train_test_split\n",
    "from sklearn.model_selection import KFold\n",
    "from sklearn.model_selection import cross_val_score\n",
    "\n",
    "from sklearn.metrics import mean_absolute_error as mae\n",
    "from sklearn.metrics import mean_squared_error\n",
    "from sklearn.metrics import mean_absolute_percentage_error\n",
    "from sklearn.metrics import r2_score\n",
    "\n",
    "from sklearn.preprocessing import StandardScaler\n",
    "\n",
    "import seaborn as sns\n",
    "import pandas as pd\n",
    "import matplotlib.pyplot as plt\n",
    "\n",
    "%matplotlib inline"
   ]
  },
  {
   "cell_type": "code",
   "execution_count": 7,
   "id": "7c94073e",
   "metadata": {},
   "outputs": [],
   "source": [
    "from sklearn.metrics import mean_absolute_error,mean_squared_error"
   ]
  },
  {
   "cell_type": "code",
   "execution_count": 8,
   "id": "7bd10b82",
   "metadata": {},
   "outputs": [
    {
     "data": {
      "text/html": [
       "<div>\n",
       "<style scoped>\n",
       "    .dataframe tbody tr th:only-of-type {\n",
       "        vertical-align: middle;\n",
       "    }\n",
       "\n",
       "    .dataframe tbody tr th {\n",
       "        vertical-align: top;\n",
       "    }\n",
       "\n",
       "    .dataframe thead th {\n",
       "        text-align: right;\n",
       "    }\n",
       "</style>\n",
       "<table border=\"1\" class=\"dataframe\">\n",
       "  <thead>\n",
       "    <tr style=\"text-align: right;\">\n",
       "      <th></th>\n",
       "      <th>Budget_Adjust</th>\n",
       "      <th>Gross_Adjust</th>\n",
       "      <th>Action_Adv</th>\n",
       "      <th>Adv_Scifi</th>\n",
       "      <th>PG-13</th>\n",
       "      <th>Duration</th>\n",
       "    </tr>\n",
       "  </thead>\n",
       "  <tbody>\n",
       "    <tr>\n",
       "      <th>0</th>\n",
       "      <td>232832101.7</td>\n",
       "      <td>673.15</td>\n",
       "      <td>1</td>\n",
       "      <td>0</td>\n",
       "      <td>1</td>\n",
       "      <td>152</td>\n",
       "    </tr>\n",
       "    <tr>\n",
       "      <th>1</th>\n",
       "      <td>151212884.8</td>\n",
       "      <td>493.97</td>\n",
       "      <td>1</td>\n",
       "      <td>1</td>\n",
       "      <td>1</td>\n",
       "      <td>146</td>\n",
       "    </tr>\n",
       "  </tbody>\n",
       "</table>\n",
       "</div>"
      ],
      "text/plain": [
       "   Budget_Adjust  Gross_Adjust  Action_Adv  Adv_Scifi  PG-13  Duration\n",
       "0    232832101.7        673.15           1          0      1       152\n",
       "1    151212884.8        493.97           1          1      1       146"
      ]
     },
     "execution_count": 8,
     "metadata": {},
     "output_type": "execute_result"
    }
   ],
   "source": [
    "# strd_base = pd.read_csv('/Users/jennihawk/Desktop/Thriller Project/Movie_Linear_Regression/thriller_csv_files/train_test_validate_csv/no_trans_base.csv')\n",
    "# strd_base.head(2)\n",
    "strd_base = pd.read_csv('/Users/jennihawk/Desktop/Thriller Project/Movie_Linear_Regression/thriller_csv_files/train_test_validate_csv/features_tst.csv')\n",
    "strd_base.head(2)"
   ]
  },
  {
   "cell_type": "markdown",
   "id": "55d6c492",
   "metadata": {},
   "source": [
    "### Begin Modeling"
   ]
  },
  {
   "cell_type": "markdown",
   "id": "d084e576",
   "metadata": {},
   "source": [
    "#### Cross Validation"
   ]
  },
  {
   "cell_type": "code",
   "execution_count": 9,
   "id": "8fc6df85",
   "metadata": {},
   "outputs": [
    {
     "name": "stdout",
     "output_type": "stream",
     "text": [
      "[0.21044674 0.26364036 0.06950768 0.17184539 0.26572188]\n",
      "0.2 +- 0.07\n",
      "R^2 of model with cross validation is: 0.1962324116112399\n"
     ]
    }
   ],
   "source": [
    "features_in = ['Budget_Adjust', 'Action_Adv', 'Adv_Scifi', 'PG-13', 'Duration']\n",
    "\n",
    "Y = strd_base['Gross_Adjust']\n",
    "X = strd_base[features_in]\n",
    "\n",
    "X_train, X_test, y_train, y_test = train_test_split(X, Y, \n",
    "                                       test_size=.2,     \n",
    "                                       random_state=42)\n",
    "# print(X_train.shape)\n",
    "# print(X_test.shape)\n",
    "# print(y_train.shape)\n",
    "# print(y_test.shape)\n",
    "\n",
    "model = LinearRegression()\n",
    "\n",
    "kf = KFold(n_splits=5, # number of folds\n",
    "     shuffle=True, # randomizes order of rows before split\n",
    "     random_state = 42) # using same number in future code/ rerunning allows us to replicate the split \n",
    "\n",
    "#to see all validation scores\n",
    "lm_cv = cross_val_score(model, X_train, y_train, # estimator, features, target\n",
    "     cv= kf, # folds created above; could also just use a number \n",
    "     scoring='r2') # scoring metric\n",
    "print(lm_cv)\n",
    "\n",
    "# to print the mean score with standard deviation, rounded to 2 decimals\n",
    "print(np.round(np.mean(lm_cv), 2), \"+-\", np.round(np.std(lm_cv),2))\n",
    "print(\"R^2 of model with cross validation is:\",np.mean(lm_cv))"
   ]
  },
  {
   "cell_type": "markdown",
   "id": "dedb56fa",
   "metadata": {},
   "source": [
    "#### Standard Scaler"
   ]
  },
  {
   "cell_type": "code",
   "execution_count": 10,
   "id": "6deabc40",
   "metadata": {},
   "outputs": [],
   "source": [
    "# Setup of variables in Cross Validation code funnel into this\n",
    "# .fit finds mean and standard deviation of variable in the training set\n",
    "\n",
    "scaler = StandardScaler().fit(X_train)\n",
    "\n",
    "# applies scaler to train set\n",
    "X_train_scaled = scaler.transform(X_train)\n",
    "#print(X_train_scaled)\n",
    "\n",
    "# .fit finds mean and standard deviation of variable in test set\n",
    "scaler = StandardScaler().fit(X_test)\n",
    "\n",
    "# applies scaler to test set\n",
    "X_test_scaled = scaler.transform(X_test)\n",
    "#print(X_test_scaled)"
   ]
  },
  {
   "cell_type": "markdown",
   "id": "cc97903f",
   "metadata": {},
   "source": [
    "#### Get Predictions"
   ]
  },
  {
   "cell_type": "code",
   "execution_count": 11,
   "id": "70f99921",
   "metadata": {},
   "outputs": [
    {
     "data": {
      "text/plain": [
       "LinearRegression()"
      ]
     },
     "execution_count": 11,
     "metadata": {},
     "output_type": "execute_result"
    }
   ],
   "source": [
    "#model = LinearRegression()\n",
    "model.fit(X_train,y_train)\n",
    "# # print the intercept\n",
    "# print(model.intercept_)"
   ]
  },
  {
   "cell_type": "code",
   "execution_count": 12,
   "id": "219c2557",
   "metadata": {},
   "outputs": [],
   "source": [
    "predictions = model.predict(X_test)\n",
    "#predictions\n"
   ]
  },
  {
   "cell_type": "code",
   "execution_count": 13,
   "id": "368406a9",
   "metadata": {},
   "outputs": [
    {
     "name": "stderr",
     "output_type": "stream",
     "text": [
      "/opt/anaconda3/lib/python3.9/site-packages/seaborn/_decorators.py:36: FutureWarning: Pass the following variables as keyword args: x, y. From version 0.12, the only valid positional argument will be `data`, and passing other arguments without an explicit keyword will result in an error or misinterpretation.\n",
      "  warnings.warn(\n"
     ]
    },
    {
     "data": {
      "text/plain": [
       "Text(0, 0.5, \"['Budget_Adjust', 'Action_Adv', 'Adv_Scifi', 'PG-13', 'Duration']\")"
      ]
     },
     "execution_count": 13,
     "metadata": {},
     "output_type": "execute_result"
    },
    {
     "data": {
      "image/png": "[encoded data removed]",
      "text/plain": [
       "<Figure size 432x288 with 1 Axes>"
      ]
     },
     "metadata": {
      "needs_background": "light"
     },
     "output_type": "display_data"
    }
   ],
   "source": [
    "p = sns.regplot(y_test,predictions,scatter_kws={\"color\": \"blue\"}, line_kws={\"color\": \"red\"}).set(title='Predicting US Gross')\n",
    "\n",
    "plt.xlabel(\"US Box Office\")\n",
    "plt.ylabel(f'{features_in}')"
   ]
  },
  {
   "cell_type": "code",
   "execution_count": 14,
   "id": "0744fbf8",
   "metadata": {},
   "outputs": [
    {
     "data": {
      "text/plain": [
       "Index(['Actual', 'Predicted', 'Budget_Adjust', 'Gross_Adjust', 'Action_Adv',\n",
       "       'Adv_Scifi', 'PG-13', 'Duration'],\n",
       "      dtype='object')"
      ]
     },
     "execution_count": 14,
     "metadata": {},
     "output_type": "execute_result"
    }
   ],
   "source": [
    "#manually test accuracy\n",
    "predictions = model.predict(X_test)\n",
    "df_results = pd.DataFrame({'Actual': y_test, 'Predicted': predictions})\n",
    "\n",
    "df_comparison = pd.merge(df_results, strd_base, how=\"inner\", left_on=\"Actual\", right_on='Gross_Adjust')\n",
    "df_comparison.columns"
   ]
  },
  {
   "cell_type": "code",
   "execution_count": 15,
   "id": "8500e13b",
   "metadata": {},
   "outputs": [
    {
     "data": {
      "text/plain": [
       "Index(['Budget_Adjust', 'Gross_Adjust', 'Action_Adv', 'Adv_Scifi', 'PG-13',\n",
       "       'Duration'],\n",
       "      dtype='object')"
      ]
     },
     "execution_count": 15,
     "metadata": {},
     "output_type": "execute_result"
    }
   ],
   "source": [
    "strd_base.columns"
   ]
  },
  {
   "cell_type": "markdown",
   "id": "1e8de0b2",
   "metadata": {},
   "source": [
    "### See Predictions by Row - Fun! "
   ]
  },
  {
   "cell_type": "code",
   "execution_count": 16,
   "id": "0c134cdf",
   "metadata": {},
   "outputs": [],
   "source": [
    "#manually shows comparison. Change out features to see how prediction changes. \n",
    "pred_df = df_comparison[['Predicted', \n",
    "               'Actual',\n",
    "               'Budget_Adjust',\n",
    "               'Action_Adv',\n",
    "               'Adv_Scifi', 'PG-13', 'Duration']]\n",
    "pd.options.display.float_format = '{:,.2f}'.format"
   ]
  },
  {
   "cell_type": "code",
   "execution_count": 17,
   "id": "9fba3332",
   "metadata": {},
   "outputs": [
    {
     "data": {
      "text/html": [
       "<div>\n",
       "<style scoped>\n",
       "    .dataframe tbody tr th:only-of-type {\n",
       "        vertical-align: middle;\n",
       "    }\n",
       "\n",
       "    .dataframe tbody tr th {\n",
       "        vertical-align: top;\n",
       "    }\n",
       "\n",
       "    .dataframe thead th {\n",
       "        text-align: right;\n",
       "    }\n",
       "</style>\n",
       "<table border=\"1\" class=\"dataframe\">\n",
       "  <thead>\n",
       "    <tr style=\"text-align: right;\">\n",
       "      <th></th>\n",
       "      <th>Predicted</th>\n",
       "      <th>Actual</th>\n",
       "      <th>Budget_Adjust</th>\n",
       "      <th>Action_Adv</th>\n",
       "      <th>Adv_Scifi</th>\n",
       "      <th>PG-13</th>\n",
       "      <th>Duration</th>\n",
       "    </tr>\n",
       "  </thead>\n",
       "  <tbody>\n",
       "    <tr>\n",
       "      <th>0</th>\n",
       "      <td>178.95</td>\n",
       "      <td>177.82</td>\n",
       "      <td>160,021,653.50</td>\n",
       "      <td>1</td>\n",
       "      <td>1</td>\n",
       "      <td>0</td>\n",
       "      <td>128</td>\n",
       "    </tr>\n",
       "    <tr>\n",
       "      <th>1</th>\n",
       "      <td>138.14</td>\n",
       "      <td>45.01</td>\n",
       "      <td>91,568,667.20</td>\n",
       "      <td>1</td>\n",
       "      <td>1</td>\n",
       "      <td>1</td>\n",
       "      <td>126</td>\n",
       "    </tr>\n",
       "    <tr>\n",
       "      <th>2</th>\n",
       "      <td>78.65</td>\n",
       "      <td>74.65</td>\n",
       "      <td>39,926,764.30</td>\n",
       "      <td>1</td>\n",
       "      <td>1</td>\n",
       "      <td>0</td>\n",
       "      <td>100</td>\n",
       "    </tr>\n",
       "    <tr>\n",
       "      <th>3</th>\n",
       "      <td>45.33</td>\n",
       "      <td>79.91</td>\n",
       "      <td>5,598,553.70</td>\n",
       "      <td>0</td>\n",
       "      <td>0</td>\n",
       "      <td>0</td>\n",
       "      <td>97</td>\n",
       "    </tr>\n",
       "    <tr>\n",
       "      <th>4</th>\n",
       "      <td>110.23</td>\n",
       "      <td>34.07</td>\n",
       "      <td>63,593,799.50</td>\n",
       "      <td>1</td>\n",
       "      <td>0</td>\n",
       "      <td>0</td>\n",
       "      <td>119</td>\n",
       "    </tr>\n",
       "    <tr>\n",
       "      <th>...</th>\n",
       "      <td>...</td>\n",
       "      <td>...</td>\n",
       "      <td>...</td>\n",
       "      <td>...</td>\n",
       "      <td>...</td>\n",
       "      <td>...</td>\n",
       "      <td>...</td>\n",
       "    </tr>\n",
       "    <tr>\n",
       "      <th>222</th>\n",
       "      <td>59.03</td>\n",
       "      <td>33.47</td>\n",
       "      <td>26,137,492.60</td>\n",
       "      <td>0</td>\n",
       "      <td>0</td>\n",
       "      <td>0</td>\n",
       "      <td>99</td>\n",
       "    </tr>\n",
       "    <tr>\n",
       "      <th>223</th>\n",
       "      <td>164.49</td>\n",
       "      <td>128.28</td>\n",
       "      <td>126,621,495.30</td>\n",
       "      <td>1</td>\n",
       "      <td>0</td>\n",
       "      <td>0</td>\n",
       "      <td>135</td>\n",
       "    </tr>\n",
       "    <tr>\n",
       "      <th>224</th>\n",
       "      <td>92.57</td>\n",
       "      <td>100.09</td>\n",
       "      <td>44,335,803.70</td>\n",
       "      <td>1</td>\n",
       "      <td>0</td>\n",
       "      <td>1</td>\n",
       "      <td>114</td>\n",
       "    </tr>\n",
       "    <tr>\n",
       "      <th>225</th>\n",
       "      <td>58.20</td>\n",
       "      <td>88.39</td>\n",
       "      <td>88,098,633.10</td>\n",
       "      <td>1</td>\n",
       "      <td>1</td>\n",
       "      <td>1</td>\n",
       "      <td>112</td>\n",
       "    </tr>\n",
       "    <tr>\n",
       "      <th>226</th>\n",
       "      <td>58.20</td>\n",
       "      <td>88.39</td>\n",
       "      <td>25,183,085.50</td>\n",
       "      <td>1</td>\n",
       "      <td>1</td>\n",
       "      <td>0</td>\n",
       "      <td>90</td>\n",
       "    </tr>\n",
       "  </tbody>\n",
       "</table>\n",
       "<p>227 rows × 7 columns</p>\n",
       "</div>"
      ],
      "text/plain": [
       "     Predicted  Actual  Budget_Adjust  Action_Adv  Adv_Scifi  PG-13  Duration\n",
       "0       178.95  177.82 160,021,653.50           1          1      0       128\n",
       "1       138.14   45.01  91,568,667.20           1          1      1       126\n",
       "2        78.65   74.65  39,926,764.30           1          1      0       100\n",
       "3        45.33   79.91   5,598,553.70           0          0      0        97\n",
       "4       110.23   34.07  63,593,799.50           1          0      0       119\n",
       "..         ...     ...            ...         ...        ...    ...       ...\n",
       "222      59.03   33.47  26,137,492.60           0          0      0        99\n",
       "223     164.49  128.28 126,621,495.30           1          0      0       135\n",
       "224      92.57  100.09  44,335,803.70           1          0      1       114\n",
       "225      58.20   88.39  88,098,633.10           1          1      1       112\n",
       "226      58.20   88.39  25,183,085.50           1          1      0        90\n",
       "\n",
       "[227 rows x 7 columns]"
      ]
     },
     "execution_count": 17,
     "metadata": {},
     "output_type": "execute_result"
    }
   ],
   "source": [
    "pred_df"
   ]
  },
  {
   "cell_type": "markdown",
   "id": "050a6d9c",
   "metadata": {},
   "source": [
    "### Test Model Scores"
   ]
  },
  {
   "cell_type": "markdown",
   "id": "cd889566",
   "metadata": {},
   "source": [
    "#### MAE (Mean Absolute Error) SCORE\n",
    "- This tells us that the average difference between the actual data value and the value predicted by the model is {mae value}\n",
    "\n",
    "- The lower the MAE for a given model, the more closely the model is able to predict the actual values."
   ]
  },
  {
   "cell_type": "code",
   "execution_count": 25,
   "id": "63dd228d",
   "metadata": {},
   "outputs": [
    {
     "data": {
      "text/plain": [
       "53.453800767521294"
      ]
     },
     "execution_count": 25,
     "metadata": {},
     "output_type": "execute_result"
    }
   ],
   "source": [
    "actual = pred_df['Actual']\n",
    "pred = pred_df['Predicted']\n",
    "\n",
    "mae(actual, pred)\n"
   ]
  },
  {
   "cell_type": "markdown",
   "id": "84dabf86",
   "metadata": {},
   "source": [
    "#### R2 score on test data"
   ]
  },
  {
   "cell_type": "code",
   "execution_count": 37,
   "id": "88991410",
   "metadata": {},
   "outputs": [
    {
     "name": "stdout",
     "output_type": "stream",
     "text": [
      "0.17825138566886245\n"
     ]
    }
   ],
   "source": [
    "print(r2_score(y_test, predictions))"
   ]
  },
  {
   "cell_type": "markdown",
   "id": "2137ceef",
   "metadata": {},
   "source": [
    "#### MAPE SCORE"
   ]
  },
  {
   "cell_type": "code",
   "execution_count": 32,
   "id": "dd715f0e",
   "metadata": {},
   "outputs": [],
   "source": [
    "# y_true = pred_df['Actual']\n",
    "# y_pred = pred_df['Predicted']"
   ]
  },
  {
   "cell_type": "code",
   "execution_count": 35,
   "id": "46699a33",
   "metadata": {},
   "outputs": [],
   "source": [
    "# #y_true = correct target values.  y_pred = Estimated target values                                \n",
    "# print(mean_absolute_percentage_error(y_true, y_pred))"
   ]
  },
  {
   "cell_type": "markdown",
   "id": "74a7b6d6",
   "metadata": {},
   "source": [
    "#### mae Interpretation \n",
    "https://www.statology.org/mean-absolute-error-python/#:~:text=We%20can%20easily%20calculate%20the,()%20function%20from%20Scikit%2Dlearn.<br>\n",
    "\n",
    "https://towardsdatascience.com/what-are-rmse-and-mae-e405ce230383\n",
    "\n",
    "https://stackoverflow.com/questions/40323393/what-does-the-mae-actually-telling-me\n",
    "\n",
    "This tells us that the average difference between the actual data value and the value predicted by the model is {mae value}\n",
    "\n",
    "The lower the MAE for a given model, the more closely the model is able to predict the actual values."
   ]
  },
  {
   "cell_type": "markdown",
   "id": "56691e3d",
   "metadata": {},
   "source": [
    "#### MAPE Interpretation"
   ]
  },
  {
   "cell_type": "markdown",
   "id": "763928f3",
   "metadata": {},
   "source": [
    "https://datagy.io/mape-python\n",
    "The lower the value for MAPE, the better the machine learning model is at predicting values. Inversely, the higher the value for MAPE, the worse the model is at predicting values.\n",
    "\n",
    "For example, if we calculate a MAPE value of 20% for a given machine learning model, then the average difference between the predicted value and the actual value is 20%.\n",
    "\n",
    "https://blog.arkieva.com/two-sides-of-the-mape-coin/"
   ]
  },
  {
   "cell_type": "code",
   "execution_count": null,
   "id": "3167a672",
   "metadata": {},
   "outputs": [],
   "source": []
  }
 ],
 "metadata": {
  "kernelspec": {
   "display_name": "Python 3 (ipykernel)",
   "language": "python",
   "name": "python3"
  },
  "language_info": {
   "codemirror_mode": {
    "name": "ipython",
    "version": 3
   },
   "file_extension": ".py",
   "mimetype": "text/x-python",
   "name": "python",
   "nbconvert_exporter": "python",
   "pygments_lexer": "ipython3",
   "version": "3.9.7"
  }
 },
 "nbformat": 4,
 "nbformat_minor": 5
}
