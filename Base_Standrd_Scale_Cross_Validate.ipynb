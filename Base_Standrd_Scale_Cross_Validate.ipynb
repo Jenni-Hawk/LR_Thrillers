{
 "cells": [
  {
   "cell_type": "code",
   "execution_count": 1,
   "id": "714e7933",
   "metadata": {},
   "outputs": [],
   "source": [
    "import numpy as np\n",
    "from sklearn.linear_model import LinearRegression\n",
    "from sklearn.model_selection import train_test_split\n",
    "import seaborn as sns\n",
    "import pandas as pd\n",
    "import matplotlib.pyplot as plt\n",
    "from sklearn.model_selection import KFold\n",
    "from sklearn.model_selection import cross_val_score\n",
    "from sklearn.preprocessing import StandardScaler\n",
    "%matplotlib inline"
   ]
  },
  {
   "cell_type": "code",
   "execution_count": 6,
   "id": "7c94073e",
   "metadata": {},
   "outputs": [],
   "source": [
    "from sklearn.metrics import mean_absolute_error,mean_squared_error"
   ]
  },
  {
   "cell_type": "code",
   "execution_count": 20,
   "id": "7bd10b82",
   "metadata": {},
   "outputs": [
    {
     "data": {
      "text/html": [
       "<div>\n",
       "<style scoped>\n",
       "    .dataframe tbody tr th:only-of-type {\n",
       "        vertical-align: middle;\n",
       "    }\n",
       "\n",
       "    .dataframe tbody tr th {\n",
       "        vertical-align: top;\n",
       "    }\n",
       "\n",
       "    .dataframe thead th {\n",
       "        text-align: right;\n",
       "    }\n",
       "</style>\n",
       "<table border=\"1\" class=\"dataframe\">\n",
       "  <thead>\n",
       "    <tr style=\"text-align: right;\">\n",
       "      <th></th>\n",
       "      <th>Budget_Adjust</th>\n",
       "      <th>Gross_Adjust</th>\n",
       "      <th>Action_Adv</th>\n",
       "      <th>Adv_Scifi</th>\n",
       "      <th>PG-13</th>\n",
       "      <th>Duration</th>\n",
       "    </tr>\n",
       "  </thead>\n",
       "  <tbody>\n",
       "    <tr>\n",
       "      <th>0</th>\n",
       "      <td>232832101.7</td>\n",
       "      <td>673.15</td>\n",
       "      <td>1</td>\n",
       "      <td>0</td>\n",
       "      <td>1</td>\n",
       "      <td>152</td>\n",
       "    </tr>\n",
       "    <tr>\n",
       "      <th>1</th>\n",
       "      <td>151212884.8</td>\n",
       "      <td>493.97</td>\n",
       "      <td>1</td>\n",
       "      <td>1</td>\n",
       "      <td>1</td>\n",
       "      <td>146</td>\n",
       "    </tr>\n",
       "  </tbody>\n",
       "</table>\n",
       "</div>"
      ],
      "text/plain": [
       "   Budget_Adjust  Gross_Adjust  Action_Adv  Adv_Scifi  PG-13  Duration\n",
       "0    232832101.7        673.15           1          0      1       152\n",
       "1    151212884.8        493.97           1          1      1       146"
      ]
     },
     "execution_count": 20,
     "metadata": {},
     "output_type": "execute_result"
    }
   ],
   "source": [
    "# strd_base = pd.read_csv('/Users/jennihawk/Desktop/Thriller Project/Movie_Linear_Regression/thriller_csv_files/train_test_validate_csv/no_trans_base.csv')\n",
    "# strd_base.head(2)\n",
    "strd_base = pd.read_csv('/Users/jennihawk/Desktop/Thriller Project/Movie_Linear_Regression/thriller_csv_files/train_test_validate_csv/features_tst.csv')\n",
    "strd_base.head(2)"
   ]
  },
  {
   "cell_type": "code",
   "execution_count": 21,
   "id": "8fc6df85",
   "metadata": {},
   "outputs": [
    {
     "name": "stdout",
     "output_type": "stream",
     "text": [
      "[0.20948492 0.26516523 0.07034826 0.17056582 0.26433809]\n",
      "0.2 +- 0.07\n",
      "R^2 of model with cross validation is: 0.19598046317775353\n"
     ]
    }
   ],
   "source": [
    "#CROSS VALIDATION\n",
    "y_target = strd_base['Gross_Adjust']\n",
    "x_features = strd_base[['Budget_Adjust', 'Action_Adv', 'PG-13', 'Duration']]\n",
    "\n",
    "X_train, X_test, y_train, y_test = train_test_split(x_features, y_target, \n",
    "                                       test_size=.2,     \n",
    "                                       random_state=42)\n",
    "\n",
    "lm = LinearRegression() \n",
    "\n",
    "kf = KFold(n_splits=5, # number of folds\n",
    "     shuffle=True, # randomizes order of rows before split\n",
    "     random_state = 42) # using same number in future code/ rerunning allows us to replicate the split \n",
    "\n",
    "#to see all validation scores\n",
    "lm_cv = cross_val_score(lm, X_train, y_train, # estimator, features, target\n",
    "     cv= kf, # folds created above; could also just use a number \n",
    "     scoring='r2') # scoring metric\n",
    "print(lm_cv)\n",
    "\n",
    "# to print the mean score with standard deviation, rounded to 2 decimals\n",
    "print(np.round(np.mean(lm_cv), 2), \"+-\", np.round(np.std(lm_cv),2))\n",
    "print(\"R^2 of model with cross validation is:\",np.mean(lm_cv))"
   ]
  },
  {
   "cell_type": "code",
   "execution_count": 18,
   "id": "6deabc40",
   "metadata": {},
   "outputs": [],
   "source": [
    "# Setup of variables in Cross Validation code funnel into this\n",
    "# .fit finds mean and standard deviation of variable in the training set\n",
    "\n",
    "scaler = StandardScaler().fit(X_train)\n",
    "\n",
    "# applies scaler to train set\n",
    "X_train_scaled = scaler.transform(X_train)\n",
    "#print(X_train_scaled)\n",
    "\n",
    "# .fit finds mean and standard deviation of variable in test set\n",
    "scaler = StandardScaler().fit(X_test)\n",
    "\n",
    "# applies scaler to test set\n",
    "X_test_scaled = scaler.transform(X_test)\n",
    "#print(X_test_scaled)\n",
    "\n",
    "\n"
   ]
  },
  {
   "cell_type": "code",
   "execution_count": 14,
   "id": "1e6123e2",
   "metadata": {},
   "outputs": [],
   "source": [
    "# STANDARD SCALING CODE - Shorter Code\n",
    "\n",
    "# std = StandardScaler()\n",
    "# std.fit(X_train.values)\n",
    "\n",
    "# # apply the scaler to the train set\n",
    "# X_tr = strd_base.transform(X_train.values)\n",
    "\n",
    "# # Apply the scaler to the test set\n",
    "# X_te = strd_base.transfrom(X_test.values)"
   ]
  },
  {
   "cell_type": "markdown",
   "id": "274e6766",
   "metadata": {},
   "source": [
    "### Compiled notes"
   ]
  },
  {
   "cell_type": "markdown",
   "id": "32e986c0",
   "metadata": {},
   "source": [
    "How can I use scaling and log transforming together?\n",
    "https://stats.stackexchange.com/questions/402470/how-can-i-use-scaling-and-log-transforming-together\n",
    "\n",
    "Good 101 article on scaling\n",
    "https://towardsdatascience.com/scale-standardize-or-normalize-with-scikit-learn-6ccc7d176a02"
   ]
  },
  {
   "cell_type": "markdown",
   "id": "d8031d86",
   "metadata": {},
   "source": [
    "video strd scale sklearn\n",
    "https://www.youtube.com/watch?v=ZddUwo4R5ug "
   ]
  }
 ],
 "metadata": {
  "kernelspec": {
   "display_name": "Python 3 (ipykernel)",
   "language": "python",
   "name": "python3"
  },
  "language_info": {
   "codemirror_mode": {
    "name": "ipython",
    "version": 3
   },
   "file_extension": ".py",
   "mimetype": "text/x-python",
   "name": "python",
   "nbconvert_exporter": "python",
   "pygments_lexer": "ipython3",
   "version": "3.9.7"
  }
 },
 "nbformat": 4,
 "nbformat_minor": 5
}
